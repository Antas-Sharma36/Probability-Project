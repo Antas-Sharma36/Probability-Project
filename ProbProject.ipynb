{
 "cells": [
  {
   "cell_type": "code",
   "execution_count": 22,
   "metadata": {},
   "outputs": [],
   "source": [
    "import pandas as pd\n",
    "import numpy as np\n",
    "import matplotlib.pyplot as plt\n",
    "import seaborn as sb"
   ]
  },
  {
   "cell_type": "code",
   "execution_count": 16,
   "metadata": {},
   "outputs": [
    {
     "data": {
      "text/html": [
       "<div>\n",
       "<style scoped>\n",
       "    .dataframe tbody tr th:only-of-type {\n",
       "        vertical-align: middle;\n",
       "    }\n",
       "\n",
       "    .dataframe tbody tr th {\n",
       "        vertical-align: top;\n",
       "    }\n",
       "\n",
       "    .dataframe thead th {\n",
       "        text-align: right;\n",
       "    }\n",
       "</style>\n",
       "<table border=\"1\" class=\"dataframe\">\n",
       "  <thead>\n",
       "    <tr style=\"text-align: right;\">\n",
       "      <th></th>\n",
       "      <th>Date</th>\n",
       "      <th>Open</th>\n",
       "      <th>High</th>\n",
       "      <th>Low</th>\n",
       "      <th>Close</th>\n",
       "      <th>Adj Close</th>\n",
       "      <th>Volume</th>\n",
       "    </tr>\n",
       "  </thead>\n",
       "  <tbody>\n",
       "    <tr>\n",
       "      <th>0</th>\n",
       "      <td>2019-10-16</td>\n",
       "      <td>254.89</td>\n",
       "      <td>257.61</td>\n",
       "      <td>253.08</td>\n",
       "      <td>255.96</td>\n",
       "      <td>251.60</td>\n",
       "      <td>525200</td>\n",
       "    </tr>\n",
       "    <tr>\n",
       "      <th>1</th>\n",
       "      <td>2019-10-17</td>\n",
       "      <td>256.12</td>\n",
       "      <td>259.96</td>\n",
       "      <td>255.78</td>\n",
       "      <td>256.45</td>\n",
       "      <td>252.09</td>\n",
       "      <td>515100</td>\n",
       "    </tr>\n",
       "    <tr>\n",
       "      <th>2</th>\n",
       "      <td>2019-10-18</td>\n",
       "      <td>257.45</td>\n",
       "      <td>258.40</td>\n",
       "      <td>254.23</td>\n",
       "      <td>255.70</td>\n",
       "      <td>251.35</td>\n",
       "      <td>609900</td>\n",
       "    </tr>\n",
       "    <tr>\n",
       "      <th>3</th>\n",
       "      <td>2019-10-21</td>\n",
       "      <td>256.61</td>\n",
       "      <td>259.84</td>\n",
       "      <td>255.67</td>\n",
       "      <td>257.52</td>\n",
       "      <td>253.14</td>\n",
       "      <td>499600</td>\n",
       "    </tr>\n",
       "    <tr>\n",
       "      <th>4</th>\n",
       "      <td>2019-10-22</td>\n",
       "      <td>257.27</td>\n",
       "      <td>259.47</td>\n",
       "      <td>255.38</td>\n",
       "      <td>258.94</td>\n",
       "      <td>254.53</td>\n",
       "      <td>343100</td>\n",
       "    </tr>\n",
       "  </tbody>\n",
       "</table>\n",
       "</div>"
      ],
      "text/plain": [
       "         Date    Open    High     Low   Close  Adj Close  Volume\n",
       "0  2019-10-16  254.89  257.61  253.08  255.96     251.60  525200\n",
       "1  2019-10-17  256.12  259.96  255.78  256.45     252.09  515100\n",
       "2  2019-10-18  257.45  258.40  254.23  255.70     251.35  609900\n",
       "3  2019-10-21  256.61  259.84  255.67  257.52     253.14  499600\n",
       "4  2019-10-22  257.27  259.47  255.38  258.94     254.53  343100"
      ]
     },
     "execution_count": 16,
     "metadata": {},
     "output_type": "execute_result"
    }
   ],
   "source": [
    "#Dominos Stock Data\n",
    "df = pd.read_csv(\"Dominos.csv\")\n",
    "df.head()"
   ]
  },
  {
   "cell_type": "code",
   "execution_count": 9,
   "metadata": {},
   "outputs": [
    {
     "data": {
      "text/plain": [
       "(505, 8)"
      ]
     },
     "execution_count": 9,
     "metadata": {},
     "output_type": "execute_result"
    }
   ],
   "source": [
    "#rows x columns\n",
    "df.shape"
   ]
  },
  {
   "cell_type": "code",
   "execution_count": 8,
   "metadata": {},
   "outputs": [
    {
     "data": {
      "text/plain": [
       "0    255.345\n",
       "1    257.870\n",
       "2    256.315\n",
       "3    257.755\n",
       "4    257.425\n",
       "Name: Avg Price, dtype: float64"
      ]
     },
     "execution_count": 8,
     "metadata": {},
     "output_type": "execute_result"
    }
   ],
   "source": [
    "#New Column\n",
    "df['Avg Price'] = (df['High']+df['Low'])/2\n",
    "df['Avg Price'].head()"
   ]
  },
  {
   "cell_type": "code",
   "execution_count": 20,
   "metadata": {},
   "outputs": [
    {
     "data": {
      "image/png": "[encoded data removed]",
      "text/plain": [
       "<Figure size 432x288 with 1 Axes>"
      ]
     },
     "metadata": {
      "needs_background": "light"
     },
     "output_type": "display_data"
    }
   ],
   "source": [
    "#ploting histogram on Closing Price\n",
    "plt.hist(df['Close'],color='blue')\n",
    "plt.title('Dominos Close Price')\n",
    "plt.show()"
   ]
  },
  {
   "cell_type": "code",
   "execution_count": null,
   "metadata": {},
   "outputs": [],
   "source": []
  }
 ],
 "metadata": {
  "kernelspec": {
   "display_name": "Python 3",
   "language": "python",
   "name": "python3"
  },
  "language_info": {
   "codemirror_mode": {
    "name": "ipython",
    "version": 3
   },
   "file_extension": ".py",
   "mimetype": "text/x-python",
   "name": "python",
   "nbconvert_exporter": "python",
   "pygments_lexer": "ipython3",
   "version": "3.8.3"
  }
 },
 "nbformat": 4,
 "nbformat_minor": 4
}
